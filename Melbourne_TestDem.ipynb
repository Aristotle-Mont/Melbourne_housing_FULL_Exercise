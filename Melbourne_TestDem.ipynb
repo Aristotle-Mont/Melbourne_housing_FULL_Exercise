{
  "nbformat": 4,
  "nbformat_minor": 0,
  "metadata": {
    "colab": {
      "provenance": []
    },
    "kernelspec": {
      "name": "python3",
      "display_name": "Python 3"
    },
    "language_info": {
      "name": "python"
    }
  },
  "cells": [
    {
      "cell_type": "code",
      "execution_count": 3,
      "metadata": {
        "id": "LkkQ9UccYJcM"
      },
      "outputs": [],
      "source": [
        "import pandas as pd\n",
        "import numpy as np\n",
        "import matplotlib.pyplot as plt\n",
        "import seaborn as sns\n",
        "import scipy.stats as stats\n",
        "from sklearn.model_selection import train_test_split\n",
        "from sklearn.linear_model import LinearRegression\n",
        "from sklearn.metrics import mean_squared_error, r2_score\n",
        "from sklearn.impute import SimpleImputer  # Added import"
      ]
    },
    {
      "cell_type": "code",
      "source": [
        "data = pd.read_csv('/content/Melbourne_housing_FULL.csv')\n",
        "print(data.head())\n",
        "\n",
        "data = data.dropna(subset=['Price']) #handling missing values\n",
        "data = data.dropna(subset=['Postcode']) #handling missing values\n",
        "\n",
        "data['LogPrice'] = np.log(data['Price']) #using a log transformation since data might be skewed"
      ],
      "metadata": {
        "colab": {
          "base_uri": "https://localhost:8080/"
        },
        "id": "jAb0MT4dZA2S",
        "outputId": "4eacc42f-25d6-4dc1-ec04-3e1cab5bbd64"
      },
      "execution_count": 4,
      "outputs": [
        {
          "output_type": "stream",
          "name": "stdout",
          "text": [
            "       Suburb             Address  Rooms Type      Price Method SellerG  \\\n",
            "0  Abbotsford       68 Studley St      2    h        NaN     SS  Jellis   \n",
            "1  Abbotsford        85 Turner St      2    h  1480000.0      S  Biggin   \n",
            "2  Abbotsford     25 Bloomburg St      2    h  1035000.0      S  Biggin   \n",
            "3  Abbotsford  18/659 Victoria St      3    u        NaN     VB  Rounds   \n",
            "4  Abbotsford        5 Charles St      3    h  1465000.0     SP  Biggin   \n",
            "\n",
            "        Date  Distance  Postcode  ...  Bathroom  Car  Landsize  BuildingArea  \\\n",
            "0  3/09/2016       2.5    3067.0  ...       1.0  1.0     126.0           NaN   \n",
            "1  3/12/2016       2.5    3067.0  ...       1.0  1.0     202.0           NaN   \n",
            "2  4/02/2016       2.5    3067.0  ...       1.0  0.0     156.0          79.0   \n",
            "3  4/02/2016       2.5    3067.0  ...       2.0  1.0       0.0           NaN   \n",
            "4  4/03/2017       2.5    3067.0  ...       2.0  0.0     134.0         150.0   \n",
            "\n",
            "   YearBuilt         CouncilArea Lattitude  Longtitude             Regionname  \\\n",
            "0        NaN  Yarra City Council  -37.8014    144.9958  Northern Metropolitan   \n",
            "1        NaN  Yarra City Council  -37.7996    144.9984  Northern Metropolitan   \n",
            "2     1900.0  Yarra City Council  -37.8079    144.9934  Northern Metropolitan   \n",
            "3        NaN  Yarra City Council  -37.8114    145.0116  Northern Metropolitan   \n",
            "4     1900.0  Yarra City Council  -37.8093    144.9944  Northern Metropolitan   \n",
            "\n",
            "  Propertycount  \n",
            "0        4019.0  \n",
            "1        4019.0  \n",
            "2        4019.0  \n",
            "3        4019.0  \n",
            "4        4019.0  \n",
            "\n",
            "[5 rows x 21 columns]\n"
          ]
        }
      ]
    },
    {
      "cell_type": "markdown",
      "source": [
        "#Different **Branch**"
      ],
      "metadata": {
        "id": "x6-vhRXibGZp"
      }
    },
    {
      "cell_type": "code",
      "source": [
        "summary_stats = data.groupby('Postcode')['Price'].describe() #Summary Statistics\n",
        "print(summary_stats)"
      ],
      "metadata": {
        "colab": {
          "base_uri": "https://localhost:8080/"
        },
        "id": "VapcMDZUbK8W",
        "outputId": "a11445b1-146e-49e7-8dbb-94d7bb9fe190"
      },
      "execution_count": 5,
      "outputs": [
        {
          "output_type": "stream",
          "name": "stdout",
          "text": [
            "          count          mean           std       min       25%        50%  \\\n",
            "Postcode                                                                     \n",
            "3000.0    151.0  7.615993e+05  6.083431e+05  210000.0  450000.0   637500.0   \n",
            "3002.0     36.0  1.374431e+06  1.165225e+06  121000.0  682500.0   897500.0   \n",
            "3003.0     51.0  1.076775e+06  5.381532e+05  295000.0  660000.0  1010000.0   \n",
            "3006.0     59.0  6.564746e+05  3.200638e+05  370000.0  526750.0   595000.0   \n",
            "3008.0      7.0  8.000000e+05  3.791328e+05  360000.0  527500.0   795000.0   \n",
            "...         ...           ...           ...       ...       ...        ...   \n",
            "3910.0     15.0  5.925000e+05  1.705827e+05  337000.0  491000.0   565500.0   \n",
            "3975.0      2.0  6.137500e+05  2.298097e+04  597500.0  605625.0   613750.0   \n",
            "3976.0      5.0  5.776000e+05  1.078439e+05  400000.0  561000.0   622000.0   \n",
            "3977.0     27.0  6.121095e+05  1.219529e+05  440000.0  520500.0   572000.0   \n",
            "3978.0      3.0  6.330000e+05  5.702631e+04  575000.0  605000.0   635000.0   \n",
            "\n",
            "                75%        max  \n",
            "Postcode                        \n",
            "3000.0     820000.0  6500000.0  \n",
            "3002.0    1496250.0  4550000.0  \n",
            "3003.0    1315000.0  2430000.0  \n",
            "3006.0     718500.0  2685000.0  \n",
            "3008.0    1010000.0  1370000.0  \n",
            "...             ...        ...  \n",
            "3910.0     661000.0   965000.0  \n",
            "3975.0     621875.0   630000.0  \n",
            "3976.0     625000.0   680000.0  \n",
            "3977.0     667500.0   910500.0  \n",
            "3978.0     662000.0   689000.0  \n",
            "\n",
            "[209 rows x 8 columns]\n"
          ]
        }
      ]
    },
    {
      "cell_type": "code",
      "source": [
        "# Display the average price\n",
        "# Get the average price per postcode\n",
        "average_price_per_postcode = data.groupby('Postcode')['Price'].mean()\n",
        "\n",
        "# Displaying the average price along with the postcode in a tabular format\n",
        "print(average_price_per_postcode)\n"
      ],
      "metadata": {
        "colab": {
          "base_uri": "https://localhost:8080/"
        },
        "id": "M12c4s69DuSa",
        "outputId": "9d0a57e9-98d0-4ea2-8ffd-ab947a0f57b4"
      },
      "execution_count": 6,
      "outputs": [
        {
          "output_type": "stream",
          "name": "stdout",
          "text": [
            "Postcode\n",
            "3000.0    7.615993e+05\n",
            "3002.0    1.374431e+06\n",
            "3003.0    1.076775e+06\n",
            "3006.0    6.564746e+05\n",
            "3008.0    8.000000e+05\n",
            "              ...     \n",
            "3910.0    5.925000e+05\n",
            "3975.0    6.137500e+05\n",
            "3976.0    5.776000e+05\n",
            "3977.0    6.121095e+05\n",
            "3978.0    6.330000e+05\n",
            "Name: Price, Length: 209, dtype: float64\n"
          ]
        }
      ]
    },
    {
      "cell_type": "code",
      "source": [
        "import pandas as pd\n",
        "\n",
        "# Set the float format to display floating-point numbers without scientific notation\n",
        "pd.options.display.float_format = '{:.1f}'.format\n",
        "\n",
        "# Assuming 'data' is your DataFrame\n",
        "# Get the average price per postcode\n",
        "average_price_per_postcode = data.groupby('Postcode')['Price'].mean()\n",
        "\n",
        "# Print out the average price of all the postcodes\n",
        "print(\"Average Price per Postcode:\")\n",
        "print(average_price_per_postcode)\n",
        "\n",
        "# Ask the user for their ideal price\n",
        "ideal_price = float(input(\"Enter your ideal price: $\"))\n",
        "\n",
        "# Find the postcode with the price closest to the user's ideal price\n",
        "closest_postcode = (average_price_per_postcode - ideal_price).abs().idxmin()\n",
        "closest_price = average_price_per_postcode.loc[closest_postcode]\n",
        "\n",
        "# Print out the postcode with the closest price to the user's ideal price\n",
        "print(f\"The postcode with the price closest to your ideal price is {closest_postcode} with an average price of ${closest_price:.1f}\")\n",
        "\n",
        "# Filter the original data for the closest postcode and print out all the prices\n",
        "prices_for_closest_postcode = data[data['Postcode'] == closest_postcode]['Price']\n",
        "print(f\"All prices for postcode {closest_postcode}:\")\n",
        "print(prices_for_closest_postcode)\n"
      ],
      "metadata": {
        "colab": {
          "base_uri": "https://localhost:8080/"
        },
        "id": "9vMmZxbNFhTt",
        "outputId": "71009b6e-fbd4-43a0-d6a2-17af307acd96"
      },
      "execution_count": 7,
      "outputs": [
        {
          "output_type": "stream",
          "name": "stdout",
          "text": [
            "Average Price per Postcode:\n",
            "Postcode\n",
            "3000.0    761599.3\n",
            "3002.0   1374430.6\n",
            "3003.0   1076774.5\n",
            "3006.0    656474.6\n",
            "3008.0    800000.0\n",
            "            ...   \n",
            "3910.0    592500.0\n",
            "3975.0    613750.0\n",
            "3976.0    577600.0\n",
            "3977.0    612109.5\n",
            "3978.0    633000.0\n",
            "Name: Price, Length: 209, dtype: float64\n",
            "Enter your ideal price: $599000\n",
            "The postcode with the price closest to your ideal price is 3754.0 with an average price of $600168.6\n",
            "All prices for postcode 3754.0:\n",
            "14345   530500.0\n",
            "14493   670000.0\n",
            "14495   520500.0\n",
            "15125   487500.0\n",
            "15127   700000.0\n",
            "          ...   \n",
            "34489   745000.0\n",
            "34490   570000.0\n",
            "34491   600000.0\n",
            "34492   615000.0\n",
            "34493   551000.0\n",
            "Name: Price, Length: 119, dtype: float64\n"
          ]
        }
      ]
    },
    {
      "cell_type": "code",
      "source": [
        "#LINEAR REGRESSION\n",
        "\n",
        "# Step 1: Load and preprocess the dataset\n",
        "data = pd.read_csv('/content/Melbourne_housing_FULL.csv')\n",
        "\n",
        "# Assuming you have selected relevant features (independent variables) to predict the 'Price'.\n",
        "# For simplicity, let's use 'Rooms' and 'Distance' as features.\n",
        "X = data[['Rooms', 'BuildingArea']]\n",
        "y = data['Price']\n",
        "\n",
        "# Step 2: Split the data into training and testing sets\n",
        "X_train, X_test, y_train, y_test = train_test_split(X, y, test_size=0.2, random_state=42)\n",
        "\n",
        "# Step 3: Handle Missing Values\n",
        "# Create an imputer and fit-transform X_train\n",
        "imputer = SimpleImputer(strategy='mean')\n",
        "X_train = imputer.fit_transform(X_train)\n",
        "X_test = imputer.transform(X_test)\n",
        "\n",
        "# Step 4: Create and train the Linear Regression model\n",
        "# If 'y' contains NaN values, you need to impute them as well\n",
        "y_imputer = SimpleImputer(strategy='mean')\n",
        "y_train = y_imputer.fit_transform(y_train.values.reshape(-1, 1))\n",
        "y_test = y_imputer.transform(y_test.values.reshape(-1, 1))\n",
        "\n",
        "# Flatten the y arrays back to 1D arrays\n",
        "y_train = y_train.ravel()\n",
        "y_test = y_test.ravel()\n",
        "\n",
        "\n",
        "\n",
        "# Step 5: Create and train the Linear Regression model\n",
        "model = LinearRegression()\n",
        "model.fit(X_train, y_train)\n",
        "\n",
        "\n",
        "# Step 6: Make predictions on the test set\n",
        "y_pred = model.predict(X_test)\n",
        "\n",
        "# Step 7: Evaluate the model\n",
        "mse = mean_squared_error(y_test, y_pred)\n",
        "r2 = r2_score(y_test, y_pred)\n",
        "\n",
        "print(f\"Mean Squared Error (MSE): {mse}\")\n",
        "print(f\"R-squared (R2) Score: {r2}\")\n",
        "\n",
        "# Visualization (Optional)\n",
        "plt.scatter(y_test, y_test, label=\"Actual\", color='blue', alpha=0.5)  # Actual values in blue\n",
        "plt.scatter(y_test, y_pred, label=\"Predicted\", color='red', alpha=0.5)  # Predicted values in red\n",
        "\n",
        "plt.xlabel(\"Actual Prices\")\n",
        "plt.ylabel(\"Predicted Prices\")\n",
        "plt.title(\"Actual Prices vs. Predicted Prices (Linear Regression)\")\n",
        "plt.legend()\n",
        "plt.show()\n",
        "\n",
        "\n",
        "\n"
      ],
      "metadata": {
        "colab": {
          "base_uri": "https://localhost:8080/",
          "height": 508
        },
        "id": "QYuLuO7XUWCG",
        "outputId": "72b3acd1-64f3-4fb4-f4ac-1bc06e4a1448"
      },
      "execution_count": 8,
      "outputs": [
        {
          "output_type": "stream",
          "name": "stdout",
          "text": [
            "Mean Squared Error (MSE): 334934478677.72186\n",
            "R-squared (R2) Score: -0.1308405171862994\n"
          ]
        },
        {
          "output_type": "display_data",
          "data": {
            "text/plain": [
              "<Figure size 640x480 with 1 Axes>"
            ],
            "image/png": "[encoded data removed]"
          },
          "metadata": {}
        }
      ]
    }
  ]
}