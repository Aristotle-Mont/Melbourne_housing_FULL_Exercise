{
  "nbformat": 4,
  "nbformat_minor": 0,
  "metadata": {
    "colab": {
      "provenance": []
    },
    "kernelspec": {
      "name": "python3",
      "display_name": "Python 3"
    },
    "language_info": {
      "name": "python"
    }
  },
  "cells": [
    {
      "cell_type": "code",
      "source": [
        "import pandas as pd\n",
        "import matplotlib.pyplot as plt\n",
        "from sklearn.model_selection import train_test_split\n",
        "from sklearn.preprocessing import PolynomialFeatures\n",
        "from sklearn.linear_model import LinearRegression\n",
        "from sklearn.metrics import mean_squared_error, r2_score\n",
        "from sklearn.impute import SimpleImputer"
      ],
      "metadata": {
        "id": "qtAZ4o0Py6Dj"
      },
      "execution_count": 7,
      "outputs": []
    },
    {
      "cell_type": "code",
      "source": [
        "data = pd.read_csv('/content/Melbourne_housing_FULL.csv')\n",
        "print(data.head())"
      ],
      "metadata": {
        "colab": {
          "base_uri": "https://localhost:8080/"
        },
        "id": "ZFg3UlSGy5O_",
        "outputId": "b13919a8-5fc5-47d3-f996-7608d0c5fc15"
      },
      "execution_count": 8,
      "outputs": [
        {
          "output_type": "stream",
          "name": "stdout",
          "text": [
            "       Suburb             Address  Rooms Type      Price Method SellerG  \\\n",
            "0  Abbotsford       68 Studley St      2    h        NaN     SS  Jellis   \n",
            "1  Abbotsford        85 Turner St      2    h  1480000.0      S  Biggin   \n",
            "2  Abbotsford     25 Bloomburg St      2    h  1035000.0      S  Biggin   \n",
            "3  Abbotsford  18/659 Victoria St      3    u        NaN     VB  Rounds   \n",
            "4  Abbotsford        5 Charles St      3    h  1465000.0     SP  Biggin   \n",
            "\n",
            "        Date  Distance  Postcode  ...  Bathroom  Car  Landsize  BuildingArea  \\\n",
            "0  3/09/2016       2.5    3067.0  ...       1.0  1.0     126.0           NaN   \n",
            "1  3/12/2016       2.5    3067.0  ...       1.0  1.0     202.0           NaN   \n",
            "2  4/02/2016       2.5    3067.0  ...       1.0  0.0     156.0          79.0   \n",
            "3  4/02/2016       2.5    3067.0  ...       2.0  1.0       0.0           NaN   \n",
            "4  4/03/2017       2.5    3067.0  ...       2.0  0.0     134.0         150.0   \n",
            "\n",
            "   YearBuilt         CouncilArea Lattitude  Longtitude             Regionname  \\\n",
            "0        NaN  Yarra City Council  -37.8014    144.9958  Northern Metropolitan   \n",
            "1        NaN  Yarra City Council  -37.7996    144.9984  Northern Metropolitan   \n",
            "2     1900.0  Yarra City Council  -37.8079    144.9934  Northern Metropolitan   \n",
            "3        NaN  Yarra City Council  -37.8114    145.0116  Northern Metropolitan   \n",
            "4     1900.0  Yarra City Council  -37.8093    144.9944  Northern Metropolitan   \n",
            "\n",
            "  Propertycount  \n",
            "0        4019.0  \n",
            "1        4019.0  \n",
            "2        4019.0  \n",
            "3        4019.0  \n",
            "4        4019.0  \n",
            "\n",
            "[5 rows x 21 columns]\n"
          ]
        }
      ]
    },
    {
      "cell_type": "code",
      "source": [
        "# Check for missing data and print the count of missing values in each column\n",
        "#instead of just eleteing the missing data, I'm using calculations to fill it in\n",
        "missing_data = data.isnull().sum()\n",
        "\n",
        "# Display columns with missing values and their respective counts\n",
        "columns_with_missing_data = missing_data[missing_data > 0]\n",
        "print(\"Columns with missing data:\")\n",
        "print(columns_with_missing_data)\n",
        "\n",
        "# Total count of missing values in the entire DataFrame\n",
        "total_missing = missing_data.sum()\n",
        "print(f\"\\nTotal missing values in the DataFrame: {total_missing}\")\n"
      ],
      "metadata": {
        "colab": {
          "base_uri": "https://localhost:8080/"
        },
        "id": "65IGmOSy17-o",
        "outputId": "78618a6a-256f-4eb5-a88b-f9503d49195d"
      },
      "execution_count": 16,
      "outputs": [
        {
          "output_type": "stream",
          "name": "stdout",
          "text": [
            "Columns with missing data:\n",
            "Price             7610\n",
            "Distance             1\n",
            "Postcode             1\n",
            "Bedroom2          8217\n",
            "Bathroom          8226\n",
            "Car               8728\n",
            "Landsize         11810\n",
            "BuildingArea     21115\n",
            "YearBuilt        19306\n",
            "CouncilArea          3\n",
            "Lattitude         7976\n",
            "Longtitude        7976\n",
            "Regionname           3\n",
            "Propertycount        3\n",
            "dtype: int64\n",
            "\n",
            "Total missing values in the DataFrame: 100975\n"
          ]
        }
      ]
    },
    {
      "cell_type": "code",
      "source": [
        "import pandas as pd\n",
        "from sklearn.impute import SimpleImputer\n",
        "\n",
        "# Step 1: Load the dataset\n",
        "data = pd.read_csv('/content/Melbourne_housing_FULL.csv')\n",
        "\n",
        "# Step 2: Define columns with missing data\n",
        "columns_with_missing_data = ['Price', 'Rooms', 'BuildingArea', 'Bedroom2', 'Distance']\n",
        "\n",
        "# Step 3: Impute missing data\n",
        "for column in columns_with_missing_data:\n",
        "    if column == 'Price':\n",
        "        # Calculate the median 'Price' and fill missing values with it\n",
        "        median_price = data['Price'].median()\n",
        "        data['Price'].fillna(median_price, inplace=True)\n",
        "    else:\n",
        "        # For other columns, use the mean value to fill missing data\n",
        "        imputer = SimpleImputer(strategy='mean')\n",
        "        data[column] = imputer.fit_transform(data[[column]])\n",
        "\n",
        "# Step 4: Verify that there are no missing values left\n",
        "missing_data = data.isnull().sum()\n",
        "print(\"Columns with missing data:\")\n",
        "print(missing_data[missing_data > 0])\n"
      ],
      "metadata": {
        "colab": {
          "base_uri": "https://localhost:8080/"
        },
        "id": "ptTzJ2bU2Tpt",
        "outputId": "f25d0971-cbea-4e9a-eedc-10c6123c7f35"
      },
      "execution_count": 17,
      "outputs": [
        {
          "output_type": "stream",
          "name": "stdout",
          "text": [
            "Columns with missing data:\n",
            "Postcode             1\n",
            "Bathroom          8226\n",
            "Car               8728\n",
            "Landsize         11810\n",
            "YearBuilt        19306\n",
            "CouncilArea          3\n",
            "Lattitude         7976\n",
            "Longtitude        7976\n",
            "Regionname           3\n",
            "Propertycount        3\n",
            "dtype: int64\n"
          ]
        }
      ]
    },
    {
      "cell_type": "code",
      "source": [
        "# Using 'Rooms', 'BuildingArea', 'Bedroom2', and 'Distance' as features\n",
        "X = data[['Rooms', 'BuildingArea', 'Bedroom2', 'Distance']]\n",
        "y = data['Price']\n",
        "\n",
        "# Step 2: Split the data into training and testing sets\n",
        "X_train, X_test, y_train, y_test = train_test_split(X, y, test_size=0.2, random_state=42)\n",
        "\n",
        "# Step 3: Handle Missing Values in Features\n",
        "# Create an imputer and fit-transform X_train\n",
        "imputer = SimpleImputer(strategy='mean')\n",
        "X_train = imputer.fit_transform(X_train)\n",
        "X_test = imputer.transform(X_test)\n",
        "\n",
        "# Step 4: Handle Missing Values in the Target Variable\n",
        "# Create an imputer for y and fit-transform y_train\n",
        "y_imputer = SimpleImputer(strategy='mean')\n",
        "y_train = y_imputer.fit_transform(y_train.values.reshape(-1, 1))\n",
        "y_test = y_imputer.transform(y_test.values.reshape(-1, 1))\n",
        "\n",
        "# Flatten the y arrays back to 1D arrays\n",
        "y_train = y_train.ravel()\n",
        "y_test = y_test.ravel()\n",
        "\n",
        "# Step 5: Create Polynomial Features\n",
        "poly = PolynomialFeatures(degree=2)  # You can adjust the degree as needed\n",
        "X_train_poly = poly.fit_transform(X_train)\n",
        "X_test_poly = poly.transform(X_test)\n",
        "\n",
        "# Step 6: Create and train the Polynomial Regression model\n",
        "model = LinearRegression()\n",
        "model.fit(X_train_poly, y_train)\n",
        "\n",
        "# Step 7: Make predictions on the test set\n",
        "y_pred = model.predict(X_test_poly)\n",
        "\n",
        "# Step 8: Evaluate the model\n",
        "mse = mean_squared_error(y_test, y_pred)\n",
        "r2 = r2_score(y_test, y_pred)\n",
        "\n",
        "print(f\"Mean Squared Error (MSE): {mse}\")\n",
        "print(f\"R-squared (R2) Score: {r2}\")\n",
        "\n",
        "# Visualization (Optional)\n",
        "plt.scatter(y_test, y_test, label=\"Actual\", color='blue', alpha=0.5)  # Actual values in blue\n",
        "plt.scatter(y_test, y_pred, label=\"Predicted\", color='red', alpha=0.5)  # Predicted values in red\n",
        "\n",
        "plt.xlabel(\"Actual Prices\")\n",
        "plt.ylabel(\"Predicted Prices\")\n",
        "plt.title(\"Actual Prices vs. Predicted Prices (Polynomial Regression)\")\n",
        "plt.legend()\n",
        "plt.show()\n"
      ],
      "metadata": {
        "colab": {
          "base_uri": "https://localhost:8080/",
          "height": 523
        },
        "id": "O7IgCJQn2hBs",
        "outputId": "eda9c9ba-6494-4eff-cb4b-f76d401b95f4"
      },
      "execution_count": 20,
      "outputs": [
        {
          "output_type": "stream",
          "name": "stdout",
          "text": [
            "Mean Squared Error (MSE): 36650084214676.45\n",
            "R-squared (R2) Score: -122.74181467332728\n"
          ]
        },
        {
          "output_type": "display_data",
          "data": {
            "text/plain": [
              "<Figure size 640x480 with 1 Axes>"
            ],
            "image/png": "[encoded data removed]"
          },
          "metadata": {}
        }
      ]
    },
    {
      "cell_type": "code",
      "source": [
        "# Find indices where predicted values do not match actual values\n",
        "mismatched_indices = [i for i in range(len(y_test)) if y_pred[i] != y_test[i]]\n",
        "\n",
        "# Create a DataFrame with mismatched predictions and actual values\n",
        "mismatched_df = pd.DataFrame({'Actual': y_test[mismatched_indices], 'Predicted': y_pred[mismatched_indices]})\n",
        "\n",
        "# Print the DataFrame with mismatched predictions\n",
        "print(\"Mismatched Predictions:\")\n",
        "print(mismatched_df)\n"
      ],
      "metadata": {
        "colab": {
          "base_uri": "https://localhost:8080/"
        },
        "id": "cDWIXMn328bB",
        "outputId": "df4cd0f8-1db5-4f90-fcba-03726e6c0d8d"
      },
      "execution_count": 21,
      "outputs": [
        {
          "output_type": "stream",
          "name": "stdout",
          "text": [
            "Mismatched Predictions:\n",
            "            Actual     Predicted\n",
            "0     9.550000e+05  1.223973e+06\n",
            "1     4.110000e+05  4.262976e+05\n",
            "2     8.750000e+05  8.767169e+05\n",
            "3     7.460000e+05  9.819163e+05\n",
            "4     1.250000e+06  1.221255e+06\n",
            "...            ...           ...\n",
            "6967  1.055510e+06  1.652913e+06\n",
            "6968  7.000000e+05  8.256257e+05\n",
            "6969  1.748000e+06  1.553124e+06\n",
            "6970  1.075000e+06  1.512034e+06\n",
            "6971  9.000000e+05  1.124627e+06\n",
            "\n",
            "[6972 rows x 2 columns]\n"
          ]
        }
      ]
    },
    {
      "cell_type": "markdown",
      "source": [
        "1. **Actual**: These are the actual house prices for the corresponding instances in your test dataset. These values represent the ground truth, i.e., the real prices of the houses.\n",
        "\n",
        "2. **Predicted**: These are the prices predicted by your Polynomial Regression model for the same instances in the test dataset.\n",
        "\n",
        "3. **Mismatched Predictions**: These are the instances where the predicted prices do not match the actual prices. In other words, these are the cases where your model's predictions had errors.\n",
        "\n",
        "Here's how to interpret a row in this output:\n",
        "- For example, in the first row, the actual price of a house was approximately 955,000 USD, but your model predicted it to be approximately 1,223,973 USD. This is an example of a mismatched prediction, where the model overestimated the price.\n",
        "\n",
        "Mismatched predictions are common\n",
        "\n",
        "To further analyze and potentially improve your model, consider:\n",
        "\n",
        "- Feature engineering: Adding or transforming features that might improve prediction accuracy.\n",
        "- Model selection: Experimenting with different regression models (e.g., Ridge, Lasso, Elastic Net) or even non-linear models to see if they perform better.\n",
        "- Hyperparameter tuning: Adjusting hyperparameters of your model, such as the degree of polynomial features in your case.\n",
        "- Collecting more data: More data can often lead to more accurate predictions.\n",
        "- Outlier handling: Identifying and handling outliers in your data, which can have a significant impact on predictions.\n",
        "\n"
      ],
      "metadata": {
        "id": "lObAQZ7e3HWD"
      }
    }
  ]
}